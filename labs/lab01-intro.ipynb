{
  "cells": [
    {
      "cell_type": "markdown",
      "metadata": {
        "id": "view-in-github",
        "colab_type": "text"
      },
      "source": [
        "<a href=\"https://colab.research.google.com/github/silentflame04/cap-comp215/blob/main/labs/lab01-intro.ipynb\" target=\"_parent\"><img src=\"https://colab.research.google.com/assets/colab-badge.svg\" alt=\"Open In Colab\"/></a>"
      ]
    },
    {
      "cell_type": "markdown",
      "metadata": {
        "collapsed": true,
        "pycharm": {
          "name": "#%% md\n"
        },
        "id": "UO4namhuBH3l"
      },
      "source": [
        "COMP 215 - LAB 1\n",
        "----------------\n",
        "#### Name: Stuart Kwan\n",
        "#### Date: 2024-01-09\n",
        "\n",
        "This lab exercise is mostly to introduce some of the power in Jupyter Notebooks.\n",
        "Note that a Notebook is composed of \"cells\" - some are \"text\", like this one, while others are \"code\"\n",
        "\n",
        "We'll also review some basic data types (like `int` and `str`) and data structures (like `list` and `dict`)\n",
        "\n",
        "**New Python Concepts**:\n",
        "  * `datetime.date` objects represent a calendar date (these are very powerful)\n",
        "  * *list comprehension* provides a compact way to represent map and filter algorithms\n",
        "\n",
        "As will be usual, the fist code cell, below, simply imports all the modules we'll be using..."
      ]
    },
    {
      "cell_type": "code",
      "source": [
        "import datetime, json, requests\n",
        "import matplotlib.pyplot as plt\n",
        "import  matplotlib.dates as mdates\n",
        "from pprint import pprint    # Pretty Print - built-in python function to nicely format data structures"
      ],
      "metadata": {
        "pycharm": {
          "name": "#%%\n"
        },
        "id": "DqSJNdSdBH3n",
        "ExecuteTime": {
          "end_time": "2024-01-04T04:03:36.676604Z",
          "start_time": "2024-01-04T04:03:36.663232Z"
        }
      },
      "execution_count": 2,
      "outputs": []
    },
    {
      "cell_type": "markdown",
      "source": [
        "### API Query\n",
        "\n",
        "Now, let's fetch some Covid-19 daily case-count data from the Open Covid API:  https://opencovid.ca/api/\n",
        "\n",
        "Query:\n",
        "  - `stat=cases`        # the type of data to fetch\n",
        "  - `loc=BC`            # the location to fetch data for\n",
        "  - `after=2023-11-01`  # since the 1st of november (note date format:  yyyy-mm-dd)"
      ],
      "metadata": {
        "collapsed": false,
        "id": "0rnf67FTBH3p"
      }
    },
    {
      "cell_type": "code",
      "execution_count": null,
      "outputs": [
        {
          "output_type": "stream",
          "name": "stdout",
          "text": [
            "Response data type: <class 'str'>\n"
          ]
        },
        {
          "output_type": "execute_result",
          "data": {
            "text/plain": [
              "'{\"data\":{\"cases\":[{\"name\":\"cases\",\"region\":\"BC\",\"date\":\"2023-11-01\",\"value\":410535,\"value_daily\":91},{\"name\":\"cases\",\"region\":\"BC\",\"date\":\"2023-11-02\",\"value\":410607,\"value_daily\":72},{\"name\":\"cases\",\"region\":\"BC\",\"date\":\"2023-11-03\",\"value\":410682,\"value_daily\":75},{\"name\":\"cases\",\"region\":\"BC\",\"date\":\"2023-11-04\",\"value\":410756,\"value_daily\":74},{\"name\":\"cases\",\"region\":\"BC\",\"date\":\"2023-11-05\",\"value\":410822,\"value_daily\":66},{\"name\":\"cases\",\"region\":\"BC\",\"date\":\"2023-11-06\",\"value\":410915,\"value_daily\":93},{\"name\":\"cases\",\"region\":\"BC\",\"date\":\"2023-11-07\",\"value\":410989,\"value_daily\":74},{\"name\":\"cases\",\"region\":\"BC\",\"date\":\"2023-11-08\",\"value\":411055,\"value_daily\":66},{\"name\":\"cases\",\"region\":\"BC\",\"date\":\"2023-11-09\",\"value\":411127,\"value_daily\":72},{\"name\":\"cases\",\"region\":\"BC\",\"date\":\"2023-11-10\",\"value\":411184,\"value_daily\":57},{\"name\":\"cases\",\"region\":\"BC\",\"date\":\"2023-11-11\",\"value\":411234,\"value_daily\":50},{\"name\":\"cases\",\"region\":\"BC\",\"date\":\"2023-11-12\",\"value\":411300,\"val'"
            ],
            "application/vnd.google.colaboratory.intrinsic+json": {
              "type": "string"
            }
          },
          "metadata": {},
          "execution_count": 2
        }
      ],
      "source": [
        "query = 'https://api.opencovid.ca/timeseries?stat=cases&loc=BC&after=2023-11-01'\n",
        "\n",
        "response = requests.request(\"GET\", query, headers={}, data={})\n",
        "print('Response data type:', type(response.text))\n",
        "response.text[:1000]"
      ],
      "metadata": {
        "pycharm": {
          "name": "#%%\n"
        },
        "id": "Al2T68b2BH3p",
        "outputId": "baa6cf6d-1fab-4a97-f93f-edbb3bf0eeda",
        "colab": {
          "base_uri": "https://localhost:8080/",
          "height": 139
        },
        "ExecuteTime": {
          "end_time": "2024-01-04T04:03:36.992622Z",
          "start_time": "2024-01-04T04:03:36.679149Z"
        }
      }
    },
    {
      "cell_type": "markdown",
      "source": [
        "Notice that the response looks like a dictionary, but is actually just a string of text (most data is exchanged on the web as plain text!).  This particular data format is called \"[JSON](https://en.wikipedia.org/wiki/JSON)\"\n",
        "\n",
        "The `json.loads` function \"parses\" such text and loads the data into a dictionary..."
      ],
      "metadata": {
        "collapsed": false,
        "pycharm": {
          "name": "#%% md\n"
        },
        "id": "np4HQTmABH3q"
      }
    },
    {
      "cell_type": "code",
      "execution_count": null,
      "outputs": [],
      "source": [
        "result = json.loads(response.text)\n",
        "pprint(result)   # pretty-print the entire data structure we got back..."
      ],
      "metadata": {
        "pycharm": {
          "name": "#%%\n"
        },
        "id": "M5wV1C_0BH3q",
        "ExecuteTime": {
          "end_time": "2024-01-04T04:03:36.997250Z",
          "start_time": "2024-01-04T04:03:36.995232Z"
        }
      }
    },
    {
      "cell_type": "markdown",
      "source": [
        "### Extract data items from a list of dictionaries\n",
        "Next we use \"list comprehension\" to extract the list of dates and associated cases into \"parallel lists\"\n",
        "\n",
        "Notice how we \"parse\" the date strings, using `strptime`, into a real date objects so they are easier to work with (format: yyyy-mm-dd)"
      ],
      "metadata": {
        "collapsed": false,
        "pycharm": {
          "name": "#%% md\n"
        },
        "id": "dAXX9kuZBH3r"
      }
    },
    {
      "cell_type": "code",
      "execution_count": null,
      "outputs": [
        {
          "output_type": "stream",
          "name": "stdout",
          "text": [
            "Dates: ['2023-11-01', '2023-11-02', '2023-11-03', '2023-11-04', '2023-11-05', '2023-11-06', '2023-11-07', '2023-11-08', '2023-11-09', '2023-11-10']\n",
            "Cases: [91, 72, 75, 74, 66, 93, 74, 66, 72, 57]\n",
            "Zipped: [('2023-11-01', 91), ('2023-11-02', 72), ('2023-11-03', 75), ('2023-11-04', 74), ('2023-11-05', 66), ('2023-11-06', 93), ('2023-11-07', 74), ('2023-11-08', 66), ('2023-11-09', 72), ('2023-11-10', 57)]\n"
          ]
        }
      ],
      "source": [
        "cases = result['data']['cases']\n",
        "case_dates = [daily['date'] for daily in cases]     # List Comprehension #1: extract the case date strings\n",
        "n_cases = [daily['value_daily'] for daily in cases] # List Comprehension #2:  extract the case counts\n",
        "\n",
        "print('Dates:', case_dates[:10])      # do you recall the \"slice\" operation?  If not, look it up in the ThinkCsPy textbook!\n",
        "print('Cases:', n_cases[:10])\n",
        "print('Zipped:', list(zip(case_dates[:10], n_cases[:10])))  # zip is a very handy function to \"zip\" 2 lists together like a zipper..."
      ],
      "metadata": {
        "pycharm": {
          "name": "#%%\n"
        },
        "id": "JOFe4vNCBH3s",
        "outputId": "0cb6db4d-397a-4541-8051-d112afd99fba",
        "colab": {
          "base_uri": "https://localhost:8080/"
        },
        "ExecuteTime": {
          "end_time": "2024-01-04T04:03:37.001082Z",
          "start_time": "2024-01-04T04:03:36.999014Z"
        }
      }
    },
    {
      "cell_type": "markdown",
      "source": [
        "### Datetime.date\n",
        "Working with date stings is a pain.  So many formats!  Even within Canada, you might see:\n",
        "\"Jan. 9, 2023\" or \"09-01-2023\" or \"2023-01-09\" or ....\n",
        "Imagine trying to do a calculation like \"how many days between these 2 dates\"!!\n",
        "The build-in `datetime` package makes working with dates much easier.\n",
        "  * step 1: \"parse\" the date string data (`strptime` ==  \"string-parse-datetime object\")\n",
        "  * step 2: get the date part (i.e., without the time)"
      ],
      "metadata": {
        "collapsed": false,
        "pycharm": {
          "name": "#%% md\n"
        },
        "id": "m9CwkEd5IdJU"
      }
    },
    {
      "cell_type": "code",
      "execution_count": null,
      "outputs": [],
      "source": [
        "# parse a datetime object from a string by supplying the correct \"format\" string.\n",
        "datetime_objects = [datetime.datetime.strptime(date, '%Y-%m-%d') for date in case_dates]  # List Comprehension #3\n",
        "\n",
        "# but we only need the \"date\" part...\n",
        "dates = [dt.date() for dt in datetime_objects]\n",
        "dates[:10]"
      ],
      "metadata": {
        "pycharm": {
          "name": "#%%\n"
        },
        "ExecuteTime": {
          "end_time": "2024-01-04T04:03:37.004845Z",
          "start_time": "2024-01-04T04:03:37.002765Z"
        },
        "id": "As_Rkd6EIdJW"
      }
    },
    {
      "cell_type": "markdown",
      "source": [
        "## Exercise 1\n",
        "\n",
        "In the code cell below, re-write each of the 3 \"List Comprehensions\" in the code cells above as a loop so you understand how they work.\n",
        "\n",
        "Notice that a \"list comprehension\" is a compact way to write a \"list accumulator\" algorithm (and more efficient too!)"
      ],
      "metadata": {
        "collapsed": false,
        "pycharm": {
          "name": "#%% md\n"
        },
        "id": "koVKiju9BH3s"
      }
    },
    {
      "cell_type": "code",
      "execution_count": null,
      "outputs": [],
      "source": [
        "# Ex. 1 your code here\n",
        "# case_dates = [daily['date'] for daily in cases]\n",
        "case_dates = []\n",
        "for daily in cases:\n",
        "    case_dates.append(daily['date'])\n",
        "print('Dates:', case_dates[:10])\n",
        "\n",
        "# n_cases = [daily['value_daily'] for daily in cases]\n",
        "n_cases = []\n",
        "for daily in cases:\n",
        "    n_cases.append(daily['value_daily'])\n",
        "print('Cases:', n_cases[:10])\n",
        "\n",
        "# datetime_objects = [datetime.datetime.strptime(date, '%Y-%m-%d') for date in case_dates]\n",
        "datetime_obj = []\n",
        "for date in case_dates:\n",
        "    datetime_obj.append(datetime.datetime.strptime(date, '%Y-%m-%d'))\n",
        "dates = [dt.date() for dt in datetime_objects]\n",
        "pprint(dates[:10])"
      ],
      "metadata": {
        "pycharm": {
          "name": "#%%\n"
        },
        "id": "aa5xLcWEBH3t",
        "ExecuteTime": {
          "end_time": "2024-01-04T04:03:37.008468Z",
          "start_time": "2024-01-04T04:03:37.005626Z"
        }
      }
    },
    {
      "cell_type": "markdown",
      "source": [
        "### Generating a plot\n",
        "\n",
        "Finally, we'll plot the (dates,cases) data as a nice x-y line graph.\n",
        "\n",
        "The code to format the x-axis labels is taken from https://matplotlib.org/stable/gallery/ticks/date_concise_formatter.html"
      ],
      "metadata": {
        "collapsed": false,
        "id": "2ow28BuTBH3u"
      }
    },
    {
      "cell_type": "code",
      "execution_count": null,
      "outputs": [],
      "source": [
        "def format_date_axis(ax):\n",
        "  \"\"\" format the dates shown on the x-axis of given axes, ax  \"\"\"\n",
        "  locator = mdates.AutoDateLocator(minticks=10, maxticks=20)\n",
        "  formatter = mdates.ConciseDateFormatter(locator)\n",
        "  ax.xaxis.set_major_locator(locator)\n",
        "  ax.xaxis.set_major_formatter(formatter)\n",
        "\n",
        "fig, ax = plt.subplots()\n",
        "format_date_axis(ax)\n",
        "ax.plot(dates, n_cases, label='Daily Cases')  # Plot some data on the axes.\n",
        "ax.set(\n",
        "  title=\"Covid-19 case counts for BC\",  # Add a title to the plot.\n",
        "  xlabel='Date',                        # Add a label to X axes.\n",
        "  ylabel='confirmed cases'             # Add a label to Y axes.\n",
        ")\n",
        "ax.legend();"
      ],
      "metadata": {
        "pycharm": {
          "name": "#%%\n"
        },
        "id": "FgwPH8mTBH3v",
        "ExecuteTime": {
          "end_time": "2024-01-04T04:03:37.124520Z",
          "start_time": "2024-01-04T04:03:37.014485Z"
        }
      }
    },
    {
      "cell_type": "markdown",
      "source": [
        "## Exercise 2\n",
        "\n",
        "Repeat the analysis above, but this time only for Vancouver Coastal Health Region.\n",
        "\n",
        "* Make a copy of just the relevant parts of the code above, leaving out all the explanations and extra data dumps.\n",
        "* You can get the ***hruid*** location code for each health region here:  https://github.com/ccodwg/CovidTimelineCanada/blob/main/geo/hr.csv\n",
        "* Generalize this code a little to make it easier to repeat the analysis for different locations.  \n",
        "  If you get that working, also make it easy to run the analysis for different dates?\n"
      ],
      "metadata": {
        "collapsed": false,
        "id": "h13bPkLOIdJb"
      }
    },
    {
      "cell_type": "code",
      "execution_count": 3,
      "outputs": [
        {
          "output_type": "stream",
          "name": "stdout",
          "text": [
            "Dates: ['2023-11-01', '2023-11-02', '2023-11-03', '2023-11-04', '2023-11-05', '2023-11-06', '2023-11-07', '2023-11-08', '2023-11-09', '2023-11-10']\n",
            "Cases: [26, 28, 22, 13, 12, 13, 12, 8, 15, 6]\n",
            "Zipped: [('2023-11-01', 26), ('2023-11-02', 28), ('2023-11-03', 22), ('2023-11-04', 13), ('2023-11-05', 12), ('2023-11-06', 13), ('2023-11-07', 12), ('2023-11-08', 8), ('2023-11-09', 15), ('2023-11-10', 6)]\n",
            "Datetime: [datetime.date(2023, 11, 1), datetime.date(2023, 11, 2), datetime.date(2023, 11, 3), datetime.date(2023, 11, 4), datetime.date(2023, 11, 5), datetime.date(2023, 11, 6), datetime.date(2023, 11, 7), datetime.date(2023, 11, 8), datetime.date(2023, 11, 9), datetime.date(2023, 11, 10)]\n"
          ]
        },
        {
          "output_type": "display_data",
          "data": {
            "text/plain": [
              "<Figure size 640x480 with 1 Axes>"
            ],
            "image/png": "[encoded data removed]"
          },
          "metadata": {}
        }
      ],
      "source": [
        "# Ex. 2 your code here\n",
        "query = 'https://api.opencovid.ca/timeseries?stat=cases&geo=hr&loc=593&after=2023-11-01&fill=false&version=true&pt_names=short&hr_names=hruid&legacy=false&fmt=json'\n",
        "\n",
        "response = requests.request(\"GET\", query, headers={}, data={})\n",
        "response.text[:1000]\n",
        "result = json.loads(response.text)\n",
        "\n",
        "cases = result['data']['cases']\n",
        "case_dates = [daily['date'] for daily in cases]\n",
        "n_cases = [daily['value_daily'] for daily in cases]\n",
        "\n",
        "datetime_objects = [datetime.datetime.strptime(date, '%Y-%m-%d') for date in case_dates]\n",
        "dates = [dt.date() for dt in datetime_objects]\n",
        "\n",
        "def format_date_axis(ax):\n",
        "  locator = mdates.AutoDateLocator(minticks=10, maxticks=20)\n",
        "  formatter = mdates.ConciseDateFormatter(locator)\n",
        "  ax.xaxis.set_major_locator(locator)\n",
        "  ax.xaxis.set_major_formatter(formatter)\n",
        "\n",
        "fig, ax = plt.subplots()\n",
        "format_date_axis(ax)\n",
        "ax.plot(dates, n_cases, label='Daily Cases')\n",
        "ax.set(\n",
        "  title=\"Covid-19 case counts for Vancouver Costal Health Region\",\n",
        "  xlabel='Date',\n",
        "  ylabel='confirmed cases'\n",
        ")\n",
        "ax.legend();\n",
        "\n",
        "print('Dates:', case_dates[:10])\n",
        "print('Cases:', n_cases[:10])\n",
        "print('Zipped:', list(zip(case_dates[:10], n_cases[:10])))\n",
        "print('Datetime:', dates[:10])"
      ],
      "metadata": {
        "pycharm": {
          "name": "#%%\n"
        },
        "ExecuteTime": {
          "end_time": "2024-01-04T04:03:37.126265Z",
          "start_time": "2024-01-04T04:03:37.123730Z"
        },
        "id": "Weflcp-vIdJc",
        "outputId": "ba3863c1-6b0a-4d6d-b11d-b55ee5c656d6",
        "colab": {
          "base_uri": "https://localhost:8080/",
          "height": 561
        }
      }
    },
    {
      "cell_type": "markdown",
      "source": [
        "## Challenge Exercise - Take your skills to the next level...\n",
        "\n",
        "## Exercise 3\n",
        "\n",
        "Notice that the data plot looks quite erratic.  These swings most likely represent artifacts attributable to the reporting process rather than actual changes in infection rates.\n",
        "\n",
        " * One way to fix this is is to \"smooth\" the date with a \"7-day rolling average\".\n",
        "Each day, we take the average of the previous 7 days cases.\n",
        " * Add new code cell below, compute the 7-day rolling average for each day from the cases list.\n",
        " * Create a plot to display the rolling average data and compare your plot with the one produced above.\n",
        "\n",
        " Hints: you are free to do this however you like, but a quite elegant solution uses list comprehension, range, and slices"
      ],
      "metadata": {
        "collapsed": false,
        "id": "qqeTORnvBH3v"
      }
    },
    {
      "cell_type": "code",
      "execution_count": 6,
      "outputs": [
        {
          "output_type": "stream",
          "name": "stdout",
          "text": [
            "126\n"
          ]
        }
      ],
      "source": [
        "# Ex. 3 (challenge) your code here\n",
        "r_average = [a for a in n_cases[:7]]\n",
        "\n",
        "def find_average(r_average):\n",
        "  total = 0\n",
        "  for i in r_average:\n",
        "    total = total + i\n",
        "\n"
      ],
      "metadata": {
        "ExecuteTime": {
          "end_time": "2024-01-04T04:03:37.128250Z",
          "start_time": "2024-01-04T04:03:37.126143Z"
        },
        "id": "xDcKj5nrIdJe",
        "outputId": "29600682-fbd6-4134-9c26-739f13184a73",
        "colab": {
          "base_uri": "https://localhost:8080/"
        }
      }
    }
  ],
  "metadata": {
    "kernelspec": {
      "display_name": "Python 3",
      "language": "python",
      "name": "python3"
    },
    "language_info": {
      "codemirror_mode": {
        "name": "ipython",
        "version": 2
      },
      "file_extension": ".py",
      "mimetype": "text/x-python",
      "name": "python",
      "nbconvert_exporter": "python",
      "pygments_lexer": "ipython2",
      "version": "2.7.6"
    },
    "colab": {
      "name": "lab1.ipynb",
      "provenance": [],
      "include_colab_link": true
    }
  },
  "nbformat": 4,
  "nbformat_minor": 0
}