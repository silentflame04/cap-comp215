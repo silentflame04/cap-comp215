{
  "nbformat": 4,
  "nbformat_minor": 0,
  "metadata": {
    "colab": {
      "name": "Lab2-NEO.ipynb",
      "provenance": []
    },
    "kernelspec": {
      "name": "python3",
      "language": "python",
      "display_name": "Python 3 (ipykernel)"
    },
    "language_info": {
      "name": "python"
    }
  },
  "cells": [
    {
      "cell_type": "markdown",
      "source": [
        "COMP 215 - LAB 2 Records (NEO)\n",
        "----------------\n",
        "#### Name: Stuart Kwan\n",
        "#### Date: 2024-01-16\n",
        "\n",
        "This lab exercise is mostly a review of strings, tuples, lists, dictionaries, and functions.\n",
        "\n",
        "**Building on new concepts from lab 1**:\n",
        "  * `datetime.date` objects represent a calendar date\n",
        "  * *list comprehension* provides a compact way to represent map and filter algorithms\n",
        "\n",
        "**New Python Concepts**:\n",
        "  * *f-string* simplifies string formatting operations\n",
        "\n",
        "As usual, the first code cell simply imports all the modules we'll be using..."
      ],
      "metadata": {
        "id": "nbRPZPKZU5Pk"
      }
    },
    {
      "cell_type": "code",
      "execution_count": null,
      "outputs": [],
      "source": [
        "import datetime, json, requests\n",
        "from pprint import pprint    # Pretty Print - built-in python function to nicely format data structures"
      ],
      "metadata": {
        "pycharm": {
          "name": "#%%\n"
        },
        "ExecuteTime": {
          "end_time": "2024-01-04T04:05:38.688434Z",
          "start_time": "2024-01-04T04:05:38.640552Z"
        },
        "id": "gdfOXmqMJU4I"
      }
    },
    {
      "cell_type": "markdown",
      "source": [
        "We'll answer some questions about [Near Earth Objects](https://cneos.jpl.nasa.gov/)\n",
        "> using NASA's API:  [https://api.nasa.gov/](https://api.nasa.gov/#NeoWS)\n",
        "\n",
        "You should register for your own API key, (but may use the DEMO_KEY to get started).\n",
        "\n",
        "First we need a short tutorial on python dates and [f-strings](https://realpython.com/python-f-strings/)..."
      ],
      "metadata": {
        "collapsed": false,
        "pycharm": {
          "name": "#%% md\n"
        },
        "id": "hN7DY3x6JU4J"
      }
    },
    {
      "cell_type": "code",
      "execution_count": null,
      "outputs": [],
      "source": [
        "today = datetime.date.today()   # get a date object representing today's date\n",
        "print(today, type(today))\n",
        "formatted_date = f'Today is: {today}'   # A format string - notice how the variable `today` is formatted into the string\n",
        "print(formatted_date)"
      ],
      "metadata": {
        "pycharm": {
          "name": "#%%\n"
        },
        "ExecuteTime": {
          "end_time": "2024-01-04T04:05:38.691283Z",
          "start_time": "2024-01-04T04:05:38.688366Z"
        },
        "id": "rf_Uo4_RJU4J"
      }
    },
    {
      "cell_type": "markdown",
      "source": [
        "### Make a query\n",
        "\n",
        "Let's get some data from the NEO database...\n",
        "Here's a query that gets the observation \"feed\" for today.\n",
        "(Note: I hard-coded the date below to lock down the data for the lab - ideally used `today()` so the notebook is always up-to-date.)"
      ],
      "metadata": {
        "collapsed": false,
        "pycharm": {
          "name": "#%% md\n"
        },
        "id": "58Ovuv8SJU4J"
      }
    },
    {
      "cell_type": "code",
      "execution_count": null,
      "outputs": [],
      "source": [
        "API_KEY = 'DEMO_KEY'  # substitute your API key here\n",
        "\n",
        "today = '2023-01-09'  #  Future enhancement:  str(datetime.date.today())   # Today's date as a string!\n",
        "# Use an f-string here to \"format\" the date and API key varaibles.\n",
        "url = f'https://api.nasa.gov/neo/rest/v1/feed?start_date={today}&end_date={today}&api_key={API_KEY}'\n",
        "\n",
        "response = requests.request(\"GET\", url, headers={}, data={})\n",
        "\n",
        "data = json.loads(response.text)  # recall json.loads for lab 1\n",
        "\n",
        "# TIP: print(data) to see the whole data structure returned, here we grab just the list of NEO's:\n",
        "n_results = data['element_count']\n",
        "neos = data['near_earth_objects'][today]\n",
        "print(f'{n_results} Near Earth Objects found for {today}')\n",
        "pprint(neos[:5])"
      ],
      "metadata": {
        "pycharm": {
          "name": "#%%\n"
        },
        "ExecuteTime": {
          "end_time": "2024-01-04T04:05:43.064157Z",
          "start_time": "2024-01-04T04:05:38.691252Z"
        },
        "id": "ZfJJC1KVJU4L"
      }
    },
    {
      "cell_type": "markdown",
      "source": [
        "Next we extract just the potentially hazerdous asteroids, using a Comp115-style list accumulator *loop*:"
      ],
      "metadata": {
        "collapsed": false,
        "pycharm": {
          "name": "#%% md\n"
        },
        "id": "Ma6f8gEIJU4L"
      }
    },
    {
      "cell_type": "code",
      "execution_count": null,
      "metadata": {
        "id": "JDGbYTySU3BP",
        "ExecuteTime": {
          "end_time": "2024-01-04T04:05:43.065108Z",
          "start_time": "2024-01-04T04:05:43.062239Z"
        }
      },
      "outputs": [],
      "source": [
        "hazards =  []\n",
        "for item in neos:\n",
        "  if item['is_potentially_hazardous_asteroid'] is True:\n",
        "    hazards.append(item)\n",
        "print(f'{len(hazards)} potentially hazardous asteroids identified.')"
      ]
    },
    {
      "cell_type": "markdown",
      "source": [
        "## Exercise 1\n",
        "\n",
        "In the code cell below, **re-write the accumulator loop above** as a [list comprehension](https://realpython.com/lessons/list-comprehensions-overview/) that implements a [\"filter\"](https://youtu.be/hUes6y2b--0)\n",
        "Notice how this provides a concise way to \"filter\" items of interest from a larger data set."
      ],
      "metadata": {
        "collapsed": false,
        "pycharm": {
          "name": "#%% md\n"
        },
        "id": "ocpLUvhYJU4M"
      }
    },
    {
      "cell_type": "code",
      "execution_count": null,
      "outputs": [
        {
          "output_type": "stream",
          "name": "stdout",
          "text": [
            "3 potentially hazardous asteroids identified.\n"
          ]
        }
      ],
      "source": [
        "# Ex. 1 your code here\n",
        "\n",
        "num_hazards = [item['is_potentially_hazardous_asteroid'] for item in neos if item['is_potentially_hazardous_asteroid'] is True]\n",
        "print(f'{len(num_hazards)} potentially hazardous asteroids identified.')"
      ],
      "metadata": {
        "pycharm": {
          "name": "#%%\n"
        },
        "ExecuteTime": {
          "end_time": "2024-01-04T04:05:43.069849Z",
          "start_time": "2024-01-04T04:05:43.065922Z"
        },
        "id": "HIXEYqCjJU4N",
        "outputId": "49e6100a-3a13-4b95-d20a-3c26be5ffaa4",
        "colab": {
          "base_uri": "https://localhost:8080/"
        }
      }
    },
    {
      "cell_type": "markdown",
      "source": [
        "## Fetch Complete Data for One Asteroid\n",
        "\n",
        "Notice that the record for each `neo` is a dictionary with `id` field that uniquely identifies this record in the database.\n",
        "\n",
        "We can use this `id` to fetch complete orbital and close approach data for the NEO.\n",
        "\n",
        "For example, this query fetches the complete data set for the first hazardous asteroid...\n"
      ],
      "metadata": {
        "collapsed": false,
        "pycharm": {
          "name": "#%% md\n"
        },
        "id": "zEP45lCXJU4O"
      }
    },
    {
      "cell_type": "code",
      "execution_count": null,
      "outputs": [],
      "source": [
        "id = hazards[0]['id']\n",
        "url = f'https://api.nasa.gov/neo/rest/v1/neo/{id}?api_key={API_KEY}'\n",
        "response = requests.request(\"GET\", url, headers={}, data={})\n",
        "data = json.loads(response.text)\n",
        "\n",
        "pprint(data)"
      ],
      "metadata": {
        "pycharm": {
          "name": "#%%\n"
        },
        "ExecuteTime": {
          "end_time": "2024-01-04T04:05:43.787125Z",
          "start_time": "2024-01-04T04:05:43.067936Z"
        },
        "id": "8GEeJ00ZJU4P"
      }
    },
    {
      "cell_type": "markdown",
      "source": [
        "Notice that the `miss_distance` field contains the distance (in various units) by which the NEO missed an \"orbiting body\".\n",
        "\n",
        "## Exercise 2\n",
        "\n",
        "In the code cell below, write a python function that takes a list of \"close approach data\" as a parameter,\n",
        "and returns a 2-tuple with the (date, miss km) of the closest approach to Earth in the list (where \"miss km\" is the miss distance in km).\n",
        "\n",
        "Hints:\n",
        "* notice the input is a list of dictionaries.  Each dictionary has a 'close_approach_date\", \"orbiting_body\", and 'miss_distance' field.\n",
        "* we are only interested in the closest approach to \"Earth\"\n",
        "* use a loop if that is easier to understand - we will look at more compact algorithms to solve this problem in class.\n",
        "\n",
        "Add at least one unit test to check your work - note the test data only needs dictionaries with the fields your function actually uses.\n"
      ],
      "metadata": {
        "id": "DNRs7ynOYwYk"
      }
    },
    {
      "cell_type": "code",
      "source": [
        "# Ex. 2 your code here\n",
        "\n",
        "approach_data = data['close_approach_data']\n",
        "\n",
        "def closest_miss_distance(approach_list):\n",
        "  date = ''\n",
        "  dist = float(approach_list[0]['miss_distance']['astronomical']) # set distance to the first miss distance\n",
        "  for i in approach_list: # loop through approach_list\n",
        "    prev_dist = float(i['miss_distance']['astronomical'])\n",
        "    if prev_dist < dist:\n",
        "      dist = prev_dist\n",
        "      date = i['close_approach_date']\n",
        "  return dist, date\n",
        "\n",
        "closest_miss_distance(approach_data)"
      ],
      "metadata": {
        "colab": {
          "base_uri": "https://localhost:8080/"
        },
        "id": "tiyXTDfnZAd0",
        "outputId": "8aeafffe-76ff-4578-ca9d-ab3bcde4bea6",
        "ExecuteTime": {
          "end_time": "2024-01-04T04:05:43.790535Z",
          "start_time": "2024-01-04T04:05:43.787064Z"
        }
      },
      "execution_count": null,
      "outputs": [
        {
          "output_type": "execute_result",
          "data": {
            "text/plain": [
              "(0.0287693216, '1972-06-25')"
            ]
          },
          "metadata": {},
          "execution_count": 21
        }
      ]
    },
    {
      "cell_type": "markdown",
      "source": [
        "## Challenge - Take your skills to the next level...\n",
        "## Exercise 3\n",
        "\n",
        "In the code cell below, write a complete program that:\n",
        " 1. fetches the list of NEO's for this week.\n",
        " 2. for each NEO, fetch it's complete orbital data and determine its closest approach to Earth\n",
        " 3. identify which NEO from this week's data makes the closet approach to earth\n",
        " 4. print a nice message with information about the NEO, which it will approach the Earth, and how close it will come.\n",
        "\n",
        "Hints:\n",
        "* you'll need the start and end date - end date is today, see if you can use a [`timedelta`](https://docs.python.org/3/library/datetime.html#timedelta-objects) object to ge the start date (you can do basic \"date math\" with `timedelta` and `date` objects!)\n",
        "* you may need to modify the function we wrote in Ex. 2 to return a triple with the NEO's id included;\n",
        "* lots of opportunity here for more practice with list comprehensions\n"
      ],
      "metadata": {
        "collapsed": false,
        "id": "MGedq6cRJU4Q"
      }
    },
    {
      "cell_type": "code",
      "source": [
        "from typing import ItemsView\n",
        "# Ex. 3 (challenge) your code here\n",
        "import datetime, json, requests\n",
        "from pprint import pprint\n",
        "\n",
        "\n",
        "API_KEY = 'vN3UA35SEZcPWPRTlWcC3FY2fbSpHXrjdEpwoeNA'\n",
        "day = datetime.timedelta(days=1)\n",
        "seven_days = datetime.timedelta(days=7)\n",
        "today = datetime.date.today()\n",
        "current_week = today - seven_days\n",
        "\n",
        "\n",
        "def get_neos():\n",
        "  '''Gets the near earth objects of the last week'''\n",
        "  start = str(current_week)\n",
        "  end = str(today)\n",
        "  url = f'https://api.nasa.gov/neo/rest/v1/feed?start_date={start}&end_date={end}&api_key={API_KEY}'\n",
        "  response = requests.request(\"GET\", url, headers={}, data={})\n",
        "  data = json.loads(response.text)\n",
        "  return data\n",
        "\n",
        "\n",
        "def single_neo_info(date, data):\n",
        "  '''Returns the distance, date, and id of the closest neo to earth'''\n",
        "  date_str = str(date)\n",
        "  neo_list = data['near_earth_objects'][date_str]\n",
        "  neo_dist = float(neo_list[0]['close_approach_data'][0]['miss_distance']['astronomical'])\n",
        "  neo_name = ''\n",
        "  neo_date = ''\n",
        "  neo_id = ''\n",
        "\n",
        "  for neo in range(len(neo_list)):\n",
        "    prev_dist = float(neo_list[neo]['close_approach_data'][0]['miss_distance']['astronomical'])\n",
        "    if prev_dist < neo_dist:\n",
        "      neo_dist = prev_dist\n",
        "      neo_name = neo_list[neo]['name']\n",
        "      neo_date = neo_list[neo]['close_approach_data'][0]['close_approach_date']\n",
        "      neo_id = neo_list[neo]['id']\n",
        "    else:\n",
        "      pass\n",
        "  return neo_dist, neo_name, neo_date, neo_id\n",
        "\n",
        "\n",
        "def closest_weekly_neo():\n",
        "  '''Loops throught the last week of neos and returns the neo closest to Earth'''\n",
        "  neo_data = get_neos()\n",
        "  date = current_week\n",
        "  current_neo = single_neo_info(str(date), neo_data)\n",
        "\n",
        "  for i in range(7):\n",
        "    prev_neo = single_neo_info(str(date), neo_data)\n",
        "    date = date + day\n",
        "    if prev_neo[0] < current_neo[0]:\n",
        "      current_neo = prev_neo\n",
        "  return current_neo\n",
        "\n",
        "\n",
        "\n",
        "neo = closest_weekly_neo()\n",
        "print('The closest near Earth object', neo[1], 'with the ID', neo[3], ', flew by on', neo[2], 'at approximately', neo[0], 'astronomical units away from Earth.')\n"
      ],
      "metadata": {
        "id": "Ds1YevErlzCe",
        "pycharm": {
          "name": "#%%\n"
        },
        "ExecuteTime": {
          "end_time": "2024-01-04T04:05:43.790766Z",
          "start_time": "2024-01-04T04:05:43.789211Z"
        },
        "colab": {
          "base_uri": "https://localhost:8080/"
        },
        "outputId": "2219daa4-c2b9-4eaa-b8a9-38405c268958"
      },
      "execution_count": 32,
      "outputs": [
        {
          "output_type": "stream",
          "name": "stdout",
          "text": [
            "The closest near Earth object (2024 BC) with the id 54421065 flew by on 2024-01-20 at approximately 0.0056631064 astronomical units.\n"
          ]
        }
      ]
    }
  ]
}