{
 "cells": [
  {
   "cell_type": "markdown",
   "metadata": {},
   "source": [
    "### Project 2: Deer Park\n",
    "Stuart Kwan - COMP215 - 2024-04-02\\\n",
    "This project aims to simulate a park with grazing deer, which live or die based on whether or not they eat enough foliage, to determine the critical point where the deer population goes into an equilibrium.\n",
    "\n",
    "Credit: Reused code taken from Joseph Fall's Lab 7-10 - Forest Fire Model, [MIT Lisence](https://github.com/powderflask/cap-comp215/blob/2024.01/LICENSE)"
   ]
  },
  {
   "cell_type": "markdown",
   "metadata": {},
   "source": [
    "#### Imports"
   ]
  },
  {
   "cell_type": "code",
   "execution_count": 4,
   "metadata": {},
   "outputs": [],
   "source": [
    "# Imports\n",
    "import pprint\n",
    "import time\n",
    "import matplotlib\n",
    "import matplotlib.pyplot as plt\n",
    "import numpy as np\n",
    "from matplotlib import animation\n",
    "from scipy.signal import correlate2d"
   ]
  },
  {
   "cell_type": "markdown",
   "metadata": {},
   "source": [
    "#### Animation & Graphing"
   ]
  },
  {
   "cell_type": "code",
   "execution_count": 5,
   "metadata": {},
   "outputs": [],
   "source": [
    "# Block taken from Lab 7-10 - fire\n",
    "tab20_mod = matplotlib.colormaps['tab20']\n",
    "tab20_mod.colors = ((1,1,1,1), *tab20_mod.colors[1:])\n",
    "\n",
    "def plot_2d_array(array, axes=None, title='', cmap=tab20_mod, **options):\n",
    "    \"\"\"\n",
    "    Plot the 2D array as an image on the given axes  1's will be dark blue, 0's will be light blue.\n",
    "\n",
    "    :param axes: the axes to plot on, or None to use the `plt.gca()` (current axes)\n",
    "    :param options: keyword arguments passed directly to `plt.imshow()`\n",
    "           see https://matplotlib.org/stable/api/_as_gen/matplotlib.axes.Axes.imshow.html\n",
    "    \"\"\"\n",
    "    axes = axes or plt.gca()\n",
    "    axes.set_title(title)\n",
    "    axes.tick_params(axis='both', which='both', bottom=False, top=False, left=False, right=False ,\n",
    "                     labelbottom=False, labeltop=False, labelleft=False, labelright=False,)\n",
    "    options = {**dict(interpolation='nearest', origin='upper'), **options}\n",
    "    axes.imshow(array, cmap=cmap, **options)"
   ]
  },
  {
   "cell_type": "code",
   "execution_count": 6,
   "metadata": {},
   "outputs": [],
   "source": [
    "# Animate Class taken from Lab 7-10 - fire\n",
    "class Animation2D:\n",
    "    \"\"\"\n",
    "      Animates any 2D model with a step() method and a draw() method, using matplotlib\n",
    "      model.step() should take no parameters - just step the model forward one step.\n",
    "      model.draw() should take 2 parameters, the matpltolib axes to draw on and an integer step number\n",
    "\n",
    "      See https://www.allendowney.com/blog/2019/07/25/matplotlib-animation-in-jupyter/\n",
    "          for a discussion of the pros and cons of various animation techniques in jupyter notebooks\n",
    "    \"\"\"\n",
    "\n",
    "    def __init__(self, model, frames=50, steps_per_frame=1, figsize=(8, 8)):\n",
    "        \"\"\"\n",
    "        :param model: the simulation object to animate, with step() and draw(axes, step) methods\n",
    "        :param frames: number of animation frames to generate\n",
    "        \"\"\"\n",
    "        self.model = model\n",
    "        self.frames = frames\n",
    "        self.steps_per_frame = steps_per_frame\n",
    "        self.fig, self.ax = plt.subplots(figsize=figsize)\n",
    "\n",
    "    def animation_step(self, step):\n",
    "        \"\"\" Step the model forward and draw the plot \"\"\"\n",
    "        if step > 0:\n",
    "            for _ in range(self.steps_per_frame):\n",
    "                self.model.step()\n",
    "        self.model.draw(self.ax, step=step * self.steps_per_frame)\n",
    "\n",
    "    def show(self):\n",
    "        \"\"\" return the matplotlib animation object, ready for display \"\"\"\n",
    "        anim = animation.FuncAnimation(self.fig, self.animation_step, frames=self.frames)\n",
    "        plt.close()  # this ensures the last frame is not shown as a separate plot\n",
    "        return anim\n",
    "\n",
    "    def animate(self, interval=None):\n",
    "        \"\"\" Animate the model simulation directly in the notebook display block \"\"\"\n",
    "        from IPython.display import clear_output\n",
    "        try:\n",
    "            for i in range(self.frames):\n",
    "                clear_output(wait=True)  # clear the IPython display\n",
    "                self.ax.clear()  # clear old image from the axes (fixes a performance issue)\n",
    "                plt.figure(self.fig)  # add the figure back to pyplot ** sigh **\n",
    "                self.animation_step(i)\n",
    "                plt.show()  # show the current animation frame (pyplot then closes and throws away figure ** sigh **)\n",
    "                if interval:\n",
    "                    time.sleep(interval)\n",
    "        except KeyboardInterrupt:\n",
    "            pass"
   ]
  },
  {
   "cell_type": "markdown",
   "metadata": {},
   "source": [
    "#### Simulation"
   ]
  },
  {
   "cell_type": "code",
   "execution_count": 7,
   "metadata": {},
   "outputs": [],
   "source": [
    "# Grazing Class\n",
    "class Grazing:\n",
    "    EMPTY = 0\n",
    "    GRASS = 1\n",
    "    DEER = 5\n",
    "    step_count = 0\n",
    "\n",
    "    cmap = [(0.8, 0.5, 0.2), (0, 1, 0), (0, 0, 0), (0, 0, 0), (0, 0, 0), (0.8, 0.4, 0)]\n",
    "    cmap[EMPTY] = (0.8, 0.5, 0.2)\n",
    "    cmap[GRASS] = (0, 1, 0)\n",
    "    cmap[DEER] = (0.8, 0.4, 0)\n",
    "    deerpark_cmap = matplotlib.colors.ListedColormap(cmap)\n",
    "\n",
    "    kernel = np.array([[1, 1, 1], \n",
    "                       [1, 0, 1], \n",
    "                       [1, 1, 1]])\n",
    "\n",
    "    def __init__(self, n=20, p=0.25, d=0.15, q=0.5):\n",
    "        # Creates a start state and initalizes n (rows), p (grass regeneration), q (starting grass), and d (starting deer)\n",
    "        self.p = p\n",
    "        self.state = np.random.choice([self.GRASS, self.EMPTY], (n, n), p=[q, 1 - q])\n",
    "        self.state = np.random.choice([self.DEER, self. EMPTY], (n, n), p=[d, 1 - d])\n",
    "\n",
    "\n",
    "    def step(self):\n",
    "        # Checks for all empty cells and randomly changes \n",
    "        empty = self.state == self.EMPTY\n",
    "        # Randomly sets empty cells to grass depending on the amount of cells and the given probability \n",
    "        self.state[empty] = np.random.choice([self.GRASS, self.EMPTY], len(self.state[empty]), p=(self.p, 1-self.p))\n",
    "\n",
    "        # Deer can move in any direction\n",
    "        # Correlating neighbours to determine if next to grass\n",
    "        transition = correlate2d(self.state, self.kernel, mode='same', boundary='wrap')\n",
    "        next_to_grass = transition >= self.DEER\n",
    "\n",
    "        deer = self.state == self.DEER\n",
    "        self.state[deer] = self.EMPTY\n",
    "        \n",
    "        # if next to grass, eat grass & gain 1 deer val, else lose 1 deer val for that specific deer\n",
    "        # when deer val == 0, become empty, when deer val == 5, \n",
    "        self.state[next_to_grass & (self.state != self.EMPTY)] = self.DEER \n",
    "\n",
    "        \n",
    "    def deer_pop(self):\n",
    "        return len(self.state[self.state == self.DEER])\n",
    "\n",
    "    def deer_pct(self):\n",
    "        return self.deer_pop() / self.state.size\n",
    "\n",
    "    def draw(self, axes=None, step=''):\n",
    "        \"\"\"Draws the CA cells using the forest colour map so values are coloured intuitively.\"\"\"\n",
    "        axes = axes or plt.gca()\n",
    "        title = f'Time:{step} Occupied: {round(self.deer_pct() * 100, 2)}%'\n",
    "        plot_2d_array(self.state, axes=axes, title=title,\n",
    "                      cmap=self.deerpark_cmap, vmin=0, vmax=len(self.deerpark_cmap.colors))"
   ]
  },
  {
   "cell_type": "code",
   "execution_count": 8,
   "metadata": {},
   "outputs": [],
   "source": [
    "deerpark = Grazing()"
   ]
  },
  {
   "cell_type": "code",
   "execution_count": 9,
   "metadata": {},
   "outputs": [
    {
     "data": {
      "image/png": "[encoded data removed]",
      "text/plain": [
       "<Figure size 800x800 with 1 Axes>"
      ]
     },
     "metadata": {},
     "output_type": "display_data"
    }
   ],
   "source": [
    "deerpark_ani = Animation2D(deerpark, 25)\n",
    "deerpark_ani.animate(0.75)"
   ]
  },
  {
   "cell_type": "markdown",
   "metadata": {},
   "source": [
    "#### Equilibrium Tests"
   ]
  },
  {
   "cell_type": "code",
   "execution_count": null,
   "metadata": {},
   "outputs": [],
   "source": []
  }
 ],
 "metadata": {
  "kernelspec": {
   "display_name": "Python 3",
   "language": "python",
   "name": "python3"
  },
  "language_info": {
   "codemirror_mode": {
    "name": "ipython",
    "version": 3
   },
   "file_extension": ".py",
   "mimetype": "text/x-python",
   "name": "python",
   "nbconvert_exporter": "python",
   "pygments_lexer": "ipython3",
   "version": "3.11.9"
  }
 },
 "nbformat": 4,
 "nbformat_minor": 2
}
