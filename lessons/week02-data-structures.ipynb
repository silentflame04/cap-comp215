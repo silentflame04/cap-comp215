{
  "nbformat": 4,
  "nbformat_minor": 0,
  "metadata": {
    "colab": {
      "name": "week2.ipynb",
      "provenance": [],
      "include_colab_link": true
    },
    "kernelspec": {
      "name": "python3",
      "display_name": "Python 3"
    },
    "language_info": {
      "name": "python"
    }
  },
  "cells": [
    {
      "cell_type": "markdown",
      "metadata": {
        "id": "view-in-github",
        "colab_type": "text"
      },
      "source": [
        "<a href=\"https://colab.research.google.com/github/silentflame04/cap-comp215/blob/main/lessons/week02-data-structures.ipynb\" target=\"_parent\"><img src=\"https://colab.research.google.com/assets/colab-badge.svg\" alt=\"Open In Colab\"/></a>"
      ]
    },
    {
      "cell_type": "markdown",
      "source": [
        "# Sequence and Map data structures - Strings, Tuples, Lists, Dictionaries\n",
        "Our week 2 lesson workbook, available on Github from the powderflask/cap-comp215 repository.\n",
        "\n",
        "As usual, the first code block just imports the modules we will use."
      ],
      "metadata": {
        "id": "WBMC0GrjNRTM"
      }
    },
    {
      "cell_type": "code",
      "execution_count": 1,
      "metadata": {
        "id": "C1a6aDXAM0WM"
      },
      "outputs": [],
      "source": [
        "import datetime\n",
        "import matplotlib.pyplot as plt\n",
        "import  matplotlib.dates as mdates\n",
        "from pprint import pprint"
      ]
    },
    {
      "cell_type": "markdown",
      "source": [
        "## f-strings\n",
        "A `string` is a sequence of characters / symbols.\n",
        "This familiar data structure is quite powerful, and format-strings (f-strings) take it to the next level...."
      ],
      "metadata": {
        "collapsed": false,
        "pycharm": {
          "name": "#%% md\n"
        },
        "id": "pZQu4H8lYgga"
      }
    },
    {
      "cell_type": "code",
      "execution_count": 2,
      "outputs": [
        {
          "output_type": "execute_result",
          "data": {
            "text/plain": [
              "'2024-01-12 is not special, but 42 and 3.1415926535 are!'"
            ],
            "application/vnd.google.colaboratory.intrinsic+json": {
              "type": "string"
            }
          },
          "metadata": {},
          "execution_count": 2
        }
      ],
      "source": [
        "today = datetime.date.today()\n",
        "the_answer = 42\n",
        "PI = 3.1415926535\n",
        "\n",
        "f'{today} is not special, but {the_answer} and {PI} are!'"
      ],
      "metadata": {
        "pycharm": {
          "name": "#%%\n"
        },
        "colab": {
          "base_uri": "https://localhost:8080/",
          "height": 35
        },
        "id": "UBGil-k1Yggb",
        "outputId": "142fdfa6-fe85-4d57-ff89-e1dc609b2276"
      }
    },
    {
      "cell_type": "markdown",
      "source": [
        "## List Comprehension\n",
        "Provides a compact syntax for two very common sequence-processing algorithms:  Map  and Filter\n",
        "\n",
        "Basic syntax:"
      ],
      "metadata": {
        "id": "k70NJ-JTNwYN"
      }
    },
    {
      "cell_type": "code",
      "source": [
        "#[expression for item in collection if condition]\n",
        "[i for i in range(100) if i%2==0]"
      ],
      "metadata": {
        "id": "HZSz8IftqJ72",
        "colab": {
          "base_uri": "https://localhost:8080/"
        },
        "outputId": "1089c21b-7365-41c5-d81e-9a2d6070400b"
      },
      "execution_count": 3,
      "outputs": [
        {
          "output_type": "execute_result",
          "data": {
            "text/plain": [
              "[0,\n",
              " 2,\n",
              " 4,\n",
              " 6,\n",
              " 8,\n",
              " 10,\n",
              " 12,\n",
              " 14,\n",
              " 16,\n",
              " 18,\n",
              " 20,\n",
              " 22,\n",
              " 24,\n",
              " 26,\n",
              " 28,\n",
              " 30,\n",
              " 32,\n",
              " 34,\n",
              " 36,\n",
              " 38,\n",
              " 40,\n",
              " 42,\n",
              " 44,\n",
              " 46,\n",
              " 48,\n",
              " 50,\n",
              " 52,\n",
              " 54,\n",
              " 56,\n",
              " 58,\n",
              " 60,\n",
              " 62,\n",
              " 64,\n",
              " 66,\n",
              " 68,\n",
              " 70,\n",
              " 72,\n",
              " 74,\n",
              " 76,\n",
              " 78,\n",
              " 80,\n",
              " 82,\n",
              " 84,\n",
              " 86,\n",
              " 88,\n",
              " 90,\n",
              " 92,\n",
              " 94,\n",
              " 96,\n",
              " 98]"
            ]
          },
          "metadata": {},
          "execution_count": 3
        }
      ]
    },
    {
      "cell_type": "markdown",
      "source": [
        "### Map Algorithm\n",
        "Apply the same function to every item in another sequence (i.e., provide a \"mapping\" from the source sequence to the target"
      ],
      "metadata": {
        "collapsed": false,
        "pycharm": {
          "name": "#%% md\n"
        },
        "id": "_LEog9khYgge"
      }
    },
    {
      "cell_type": "code",
      "execution_count": 4,
      "outputs": [
        {
          "output_type": "execute_result",
          "data": {
            "text/plain": [
              "[1, 4, 9, 16, 25, 36, 49, 64, 81, 100]"
            ]
          },
          "metadata": {},
          "execution_count": 4
        }
      ],
      "source": [
        "# Problem:  compute the first 10 natural squares\n",
        "[x**2 for x in range(1, 11)]"
      ],
      "metadata": {
        "pycharm": {
          "name": "#%%\n"
        },
        "colab": {
          "base_uri": "https://localhost:8080/"
        },
        "id": "YYAZijCdYggf",
        "outputId": "62966e66-5a40-4be7-c5e4-b4006290a793"
      }
    },
    {
      "cell_type": "markdown",
      "source": [
        "### Filter\n",
        "Select a sub-set of the elements from another sequence based on some criteria."
      ],
      "metadata": {
        "collapsed": false,
        "pycharm": {
          "name": "#%% md\n"
        },
        "id": "Oiez3QH_Yggg"
      }
    },
    {
      "cell_type": "code",
      "execution_count": 5,
      "outputs": [
        {
          "output_type": "execute_result",
          "data": {
            "text/plain": [
              "'o,e,i,u,o,o,i,a,e,o,e,e,u,a,i,i,i,e,i,e,o,e,i,u,o,e,o,i,i,i,u,u,a,o,e,e,o,o,e,a,a,a,i,u,a,e,i,a,i,i,e,i,a,u,i,o,u,e,e,i,a,i,o,u,a,o,a,o,i,i,i,u,a,i,u,i,e,e,a,o,o,o,o,e,u,a'"
            ],
            "application/vnd.google.colaboratory.intrinsic+json": {
              "type": "string"
            }
          },
          "metadata": {},
          "execution_count": 5
        }
      ],
      "source": [
        "VOWELS = 'aeiou'\n",
        "text = 'Lorem ipsum dolor sit amet, consectetur adipiscing elit, sed do eiusmod tempor incididunt ut labore et dolore magna aliqua. Ut enim ad minim veniam, quis nostrud exercitation ullamco laboris nisi ut aliquip ex ea commodo consequat.'\n",
        "# Problem:  create a string with just the vowels from the text, in order.\n",
        "','.join([vowel for vowel in text if vowel in VOWELS])"
      ],
      "metadata": {
        "pycharm": {
          "name": "#%%\n"
        },
        "colab": {
          "base_uri": "https://localhost:8080/",
          "height": 35
        },
        "id": "7KrPDNZQYggh",
        "outputId": "d60d441d-d5aa-4b5f-9a4e-3fe1c33f22b0"
      }
    },
    {
      "cell_type": "markdown",
      "source": [
        "## Data Wrangling with List Comprehension\n",
        "E-learn's Live Quiz module does track quiz scores for each student, but does not store them in the gradebook,\n",
        "and it reports on them in the most useless way.\n",
        "\n",
        "Let's do some \"data wrangling\" to make sense out of this mess!\n",
        "\n",
        "### The Problem: Unstructured Data!\n",
        "Notice it is just a single large string!  The real data set has 36 students, and I need to do this every week!"
      ],
      "metadata": {
        "collapsed": false,
        "pycharm": {
          "name": "#%% md\n"
        },
        "id": "Rq2q7SM5Yggi"
      }
    },
    {
      "cell_type": "code",
      "execution_count": 6,
      "outputs": [],
      "source": [
        "student_scores = \"\"\"\n",
        "  1.                 Ali Oop scored  7/ 8 = 87%\n",
        "\n",
        "\n",
        "  2.          Alison Ralison scored  8/ 8 = 100%\n",
        "\n",
        "  3.         Ambily Piturbed scored  8/ 8 = 100%\n",
        "\n",
        "\n",
        "  4.  Arshan Risnot Farquared scored  5/ 8 = 62%\n",
        "\n",
        "\n",
        "  5.       Ayushma Jugernaugh scored  5/ 8 = 62%\n",
        "\n",
        "\n",
        "  6.       Brayden Labaguette scored  7/ 8 = 87%\n",
        "\"\"\""
      ],
      "metadata": {
        "pycharm": {
          "name": "#%%\n"
        },
        "id": "SxL_WYoRYggi"
      }
    },
    {
      "cell_type": "markdown",
      "source": [
        "### Goal\n",
        "Turn this into structured data: a list of 2-tuples, each student's full name and their integer score."
      ],
      "metadata": {
        "collapsed": false,
        "pycharm": {
          "name": "#%% md\n"
        },
        "id": "_mRZ9RJkYggj"
      }
    },
    {
      "cell_type": "code",
      "execution_count": 7,
      "outputs": [
        {
          "output_type": "execute_result",
          "data": {
            "text/plain": [
              "[('Ali Oop', '7'),\n",
              " ('Alison Ralison', '8'),\n",
              " ('Ambily Piturbed', '8'),\n",
              " ('Arshan Risnot Farquared', '5'),\n",
              " ('Ayushma Jugernaugh', '5'),\n",
              " ('Brayden Labaguette', '7')]"
            ]
          },
          "metadata": {},
          "execution_count": 7
        }
      ],
      "source": [
        "students = [s.split() for s in student_scores.split(\"\\n\") if s]\n",
        "names = [' '.join(s[1:-5]) for s in students]\n",
        "scores = [s[-4][:-1] for s in students]\n",
        "list(zip(names, scores))\n",
        "\n"
      ],
      "metadata": {
        "pycharm": {
          "name": "#%%\n"
        },
        "colab": {
          "base_uri": "https://localhost:8080/"
        },
        "id": "Hy4OpQn4Yggk",
        "outputId": "4c1047e0-9a75-45ff-ff9d-ab6493d3e866"
      }
    },
    {
      "cell_type": "markdown",
      "source": [
        "## Records\n",
        "A *record* is a compound data value - a collection of simpler data values (fields) that all describe a single entity.\n",
        "\n",
        " * tuple\n",
        " * dictionary\n",
        " * object\n",
        "\n",
        "Problem: develop the data representation for a `student` in a student record system,\n",
        "where a `student` has a first and last name, student id, and date of birth"
      ],
      "metadata": {
        "collapsed": false,
        "id": "uRL4z7WhYggk"
      }
    },
    {
      "cell_type": "code",
      "source": [
        "# Tuple\n",
        "\n",
        "# Dictionary\n",
        "\n",
        "# Object"
      ],
      "metadata": {
        "id": "Ai9qb3Bolw4h"
      },
      "execution_count": 9,
      "outputs": []
    },
    {
      "cell_type": "code",
      "execution_count": 9,
      "outputs": [],
      "source": [
        ""
      ],
      "metadata": {
        "pycharm": {
          "name": "#%%\n"
        },
        "id": "e8TS-Y3eYggm"
      }
    }
  ]
}