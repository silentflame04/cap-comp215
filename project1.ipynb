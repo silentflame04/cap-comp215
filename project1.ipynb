{
  "nbformat": 4,
  "nbformat_minor": 0,
  "metadata": {
    "colab": {
      "provenance": [],
      "collapsed_sections": [
        "HnYieMk5gnYE",
        "GacrS4G0C2L0"
      ],
      "authorship_tag": "ABX9TyP0wllk6dsiIp3H7CGuHYR8",
      "include_colab_link": true
    },
    "kernelspec": {
      "name": "python3",
      "display_name": "Python 3"
    },
    "language_info": {
      "name": "python"
    }
  },
  "cells": [
    {
      "cell_type": "markdown",
      "metadata": {
        "id": "view-in-github",
        "colab_type": "text"
      },
      "source": [
        "<a href=\"https://colab.research.google.com/github/silentflame04/cap-comp215/blob/main/project1.ipynb\" target=\"_parent\"><img src=\"https://colab.research.google.com/assets/colab-badge.svg\" alt=\"Open In Colab\"/></a>"
      ]
    },
    {
      "cell_type": "markdown",
      "source": [
        "## Plotting Neos\n",
        "By Stuart Kwan\n",
        "\n",
        "2024-02-25 - COMP 215\n",
        "\n",
        "This project aims to plot the closest NEOs to Earth using NASA's  NeoWs API.\n",
        "\n",
        "Credit: Some parts of code were based closely or exactly taken from Joseph Fall's Lab 2 - Records (NEO), [MIT Lisence](https://github.com/powderflask/cap-comp215/blob/2024.01/LICENSE)"
      ],
      "metadata": {
        "id": "Thi4nxDCTwuQ"
      }
    },
    {
      "cell_type": "markdown",
      "source": [
        "### Editable Values"
      ],
      "metadata": {
        "id": "Hg9sDxV9SyU9"
      }
    },
    {
      "cell_type": "code",
      "source": [
        "# The start and end dates should be written 'YYYY-MM-DD'. Default start date is today and the default end date is last week.\n",
        "# Note: Be warned the max API request cap is at 1000 req/hr and depending on the amount of neos, this cap will be hit quickly\n",
        "start_date = '2024-02-25'\n",
        "end_date = '2024-02-20'\n",
        "\n",
        "# Option to plot only potentially hazardous NEOs. Default is False.\n",
        "is_hazardous = False\n",
        "\n",
        "# Options to plot one or more NEOs. Only one option can true on at a time.\n",
        "run_multi_neo = True\n",
        "run_single_neo = False\n",
        "\n",
        "# Enter a NEO id if only plotting a single neo.\n",
        "neo_id = '2523971'"
      ],
      "metadata": {
        "id": "nsCZ1uRzjtyh"
      },
      "execution_count": 244,
      "outputs": []
    },
    {
      "cell_type": "markdown",
      "source": [
        "### Imports + Global Variables"
      ],
      "metadata": {
        "id": "HnYieMk5gnYE"
      }
    },
    {
      "cell_type": "code",
      "source": [
        "# Imports\n",
        "import json, requests\n",
        "import datetime\n",
        "import matplotlib.pyplot as plt\n",
        "from pprint import pprint"
      ],
      "metadata": {
        "id": "BT3pbqnDYZtp"
      },
      "execution_count": 66,
      "outputs": []
    },
    {
      "cell_type": "code",
      "source": [
        "# Global Variables\n",
        "API_KEY = 'vN3UA35SEZcPWPRTlWcC3FY2fbSpHXrjdEpwoeNA'\n",
        "today = datetime.datetime.now()\n",
        "seven_days = datetime.timedelta(days=7)"
      ],
      "metadata": {
        "id": "S3cw-JKoag0g"
      },
      "execution_count": 184,
      "outputs": []
    },
    {
      "cell_type": "markdown",
      "source": [
        "### Function Definitions"
      ],
      "metadata": {
        "id": "GacrS4G0C2L0"
      }
    },
    {
      "cell_type": "code",
      "execution_count": 208,
      "metadata": {
        "id": "0Dmj_0phS_3r"
      },
      "outputs": [],
      "source": [
        "# These functions get data about NEOs using the NeoWs API.\n",
        "def get_neo_data(start_date, end_date):\n",
        "    \"\"\" Returns a dict of NEO data between a specified start and end date. \"\"\"\n",
        "    url = f'https://api.nasa.gov/neo/rest/v1/feed?start_date={start_date}&end_date={end_date}&api_key={API_KEY}'\n",
        "    response = requests.request(\"GET\", url, headers={}, data={})\n",
        "    data = json.loads(response.text)\n",
        "    return data\n",
        "\n",
        "def get_single_neo(id):\n",
        "    \"\"\" Returns a dict of a NEO data using its id. \"\"\"\n",
        "    url = f'https://api.nasa.gov/neo/rest/v1/neo/{id}?api_key={API_KEY}'\n",
        "    response = requests.request(\"GET\", url, headers={}, data={})\n",
        "    data = json.loads(response.text)\n",
        "    return data"
      ]
    },
    {
      "cell_type": "code",
      "source": [
        "def check_dates(start, end):\n",
        "    \"\"\" Returns a bool if the range between two dates is smaller or larger than 7 days. \"\"\"\n",
        "    return True if datetime.datetime.strptime(start, '%Y-%m-%d') - datetime.datetime.strptime(end, '%Y-%m-%d') <= seven_days else False\n",
        "\n",
        "def neo_ids(data, hazardous):\n",
        "    \"\"\" Returns a list of NEO ids from a certain date range. \"\"\"\n",
        "    ids = []\n",
        "    if hazardous == True:\n",
        "        for date in data['near_earth_objects']:\n",
        "            ids.append([data['near_earth_objects'][date][neo]['id'] for neo in range(len(data['near_earth_objects'][date])) if data['near_earth_objects'][date][neo]['is_potentially_hazardous_asteroid'] == True])\n",
        "    else:\n",
        "        for date in data['near_earth_objects']:\n",
        "            ids.append([data['near_earth_objects'][date][neo]['id'] for neo in range(len(data['near_earth_objects'][date]))])\n",
        "    return [id for i in ids for id in i]\n",
        "\n",
        "def neo_dates(data):\n",
        "    \"\"\" Returns a list of dates a single NEO has approached Earth. \"\"\"\n",
        "    return [data['close_approach_data'][date]['close_approach_date'] for date in range(len(data['close_approach_data']))]\n",
        "\n",
        "def miss_distances(data):\n",
        "    \"\"\" Returns a list of distances a single NEO has missed Earth by. \"\"\"\n",
        "    return [data['close_approach_data'][miss]['miss_distance']['astronomical'] for miss in range(len(data['close_approach_data']))]"
      ],
      "metadata": {
        "id": "AYeCAZfdCq-K"
      },
      "execution_count": 209,
      "outputs": []
    },
    {
      "cell_type": "code",
      "source": [
        "def plot_graph(id_list, multi_neo):\n",
        "    \"\"\" Plots a graph of distance vs time using a list of NEO ids. \"\"\"\n",
        "    fig, ax = plt.subplots(figsize=(35, 10), layout='constrained') # Setting up the graph\n",
        "    ax.set_xlabel('Dates (Days)')\n",
        "    ax.set_ylabel('Miss Distances (AU)')\n",
        "    ax.set_title('Miss Distances vs Time')\n",
        "\n",
        "    for id in id_list: # Plotting each neo selected\n",
        "        data = get_single_neo(id)\n",
        "        dates = neo_dates(data)\n",
        "        distances = miss_distances(data)\n",
        "        ax.plot([date for date in range(len(dates))], [float(distance) for distance in distances]) # Had to change the datatype of the dates, so they would plot properly\n",
        "        plt.xticks([date for date in range(len(dates))], dates)\n",
        "\n",
        "    plt.ylim(bottom=0, top=0.6) # Setting up x and y limits, restricting the size\n",
        "    plt.xlim(left=20, right=50)\n",
        "    if multi_neo == True:\n",
        "        ax.legend(id_list, loc=2, fontsize='medium', ncols=16)\n",
        "    else:\n",
        "        ax.legend(id_list, loc=2, fontsize='medium')\n",
        "\n",
        "    plt.show()"
      ],
      "metadata": {
        "id": "RxYNwtQvCuaf"
      },
      "execution_count": 210,
      "outputs": []
    },
    {
      "cell_type": "markdown",
      "source": [
        "### Main (Run ONLY)"
      ],
      "metadata": {
        "id": "n681WFKsC94d"
      }
    },
    {
      "cell_type": "code",
      "source": [
        "if run_multi_neo == True and run_single_neo == False:\n",
        "    try:\n",
        "        check_dates(start_date, end_date)\n",
        "    except ValueError:\n",
        "        print('Invalid dates. Please refer to the proper date format provided.')\n",
        "    else:\n",
        "        if check_dates(start_date, end_date) == True:\n",
        "            neo_id_list = neo_ids(get_neo_data(start_date, end_date), is_hazardous)\n",
        "            print(f'Graphing {len(neo_id_list)} NEOs between {end_date} and {start_date}.')\n",
        "            print(f'This graph displays the 20th to 50th passing of a NEO vs the distance in astronomical units.')\n",
        "            plot_graph(neo_id_list, run_multi_neo)\n",
        "        else:\n",
        "            print('Invalid date range.')\n",
        "elif run_multi_neo == False and run_single_neo == True:\n",
        "    try:\n",
        "        get_single_neo(neo_id)\n",
        "    except json.JSONDecodeError:\n",
        "        print('Invalid NEO id.')\n",
        "    else:\n",
        "        print(f'Graphing Neo ID: {neo_id}.')\n",
        "        print(f'This graph displays the 20th to 50th passing of a NEO vs the distance in astronomical units.')\n",
        "        plot_graph([neo_id], run_multi_neo)\n",
        "else:\n",
        "    print(\"Both options toggled. Don't forget to turn one off.\")"
      ],
      "metadata": {
        "colab": {
          "base_uri": "https://localhost:8080/"
        },
        "id": "3yHfdA37mbEq",
        "outputId": "b299afa4-d0c0-494a-9945-4db4fb6f80a5"
      },
      "execution_count": 246,
      "outputs": [
        {
          "output_type": "stream",
          "name": "stdout",
          "text": [
            "Invalid dates. Please refer to the proper date format provided.\n"
          ]
        }
      ]
    }
  ]
}